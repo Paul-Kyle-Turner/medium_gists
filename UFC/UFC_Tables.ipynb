{
 "cells": [
  {
   "cell_type": "code",
   "execution_count": 1,
   "id": "c2f410f0-3534-4019-b501-a312b59ec3eb",
   "metadata": {},
   "outputs": [],
   "source": [
    "import pandas as pd"
   ]
  },
  {
   "cell_type": "markdown",
   "id": "862d3f1c-728e-4dba-952b-996e996bbef6",
   "metadata": {},
   "source": []
  },
  {
   "cell_type": "code",
   "execution_count": 24,
   "id": "6eb465d7-9e32-4928-b595-88281ff6e5ef",
   "metadata": {
    "tags": []
   },
   "outputs": [],
   "source": [
    "headers = [\"Column_name\", \"Predictive / Target\", \"Description\"]\n",
    "rows = {0: [\"name\", \"Not Predictive ⭐\", \"Name of the Fight Night\"],\n",
    "        1: [\"weight_class\", \"Not Predictive ⭐\", \"Weight class of fight\"],\n",
    "        2: [\"method\", \"Leakage\", \"Method of win\"],\n",
    "        3: [\"round\", \"Not Predictive ⭐\", \"Number of rounds in fight\"],\n",
    "        4: [\"time\", \"Not Predictive ⭐\", \"Length of fight\"],\n",
    "        5: [\"city\", \"Not Predictive ⭐\", \"City\"],\n",
    "        6: [\"state\", \"Not Predictive ⭐\", \"If Applicable State\"],\n",
    "        7: [\"country\", \"Not Predictive ⭐\", \"Country\"],\n",
    "        8: [\"month\", \"Not Predictive ⭐\", \"Month\"],\n",
    "        9: [\"day\", \"Not Predictive ⭐\", \"Day\"],\n",
    "        10: [\"year\", \"Not Predictive ⭐\", \"Year\"],\n",
    "        11: [\"winner\", \"Target\", \"0 if fighter_one wins else 1\"],\n",
    "        12: [\"fighter_one_id\", \"Foreign Key | Not Predictive\", \"id of fighter one\"],\n",
    "        13: [\"fighter_two_id\", \"Foreign Key | Not Predictive\", \"id of fighter two\"],\n",
    "        14: [\"id\", \"Foreign Key | Not Predictive\", \"id of fight\"]\n",
    "    }"
   ]
  },
  {
   "cell_type": "code",
   "execution_count": 25,
   "id": "2fe2ed5e-ced6-4085-8b3f-9b22295c679e",
   "metadata": {},
   "outputs": [],
   "source": [
    "fights = pd.DataFrame(rows).T\n",
    "fights.columns = headers\n",
    "fights.to_csv(\"fights_features.csv\")"
   ]
  },
  {
   "cell_type": "markdown",
   "id": "cbfdfef7-03b9-45e5-a5cc-93129dd21139",
   "metadata": {},
   "source": []
  },
  {
   "cell_type": "code",
   "execution_count": 22,
   "id": "95da1255-a5cb-4a81-8eda-2e7616ee0896",
   "metadata": {},
   "outputs": [],
   "source": [
    "headers = [\"Column_name\", \"Predictive / Target\", \"Description\"]\n",
    "row = {\n",
    "    0: [\"first\", \"Not Predictive\", \"First name\"],\n",
    "    1: [\"last\", \"Not Predictive\", \"Last name\"],\n",
    "    2: [\"nickname\", \"Not Predictive\", \"Nickname\"],\n",
    "    3: [\"ht\", \"Predictive\", \"Height in feet’ inches”\"],\n",
    "    4: [\"wt\", \"Predictive\", \"Weight of fighter in lbs.\"],\n",
    "    5: [\"reach\", \"Predictive\", \"Arm Reach\"],\n",
    "    6: [\"stance\", \"Predictive\", \"Fighting Style\"],\n",
    "    7: [\"w\", \"Predictive\", \"Wins\"],\n",
    "    8: [\"l\", \"Predictive\", \"Losses\"],\n",
    "    9: [\"d\", \"Predictive\", \"Draws\"],\n",
    "    10: [\"belt\", \"Predictive\", \"Currently holds belt\"],\n",
    "    11: [\"id\", \"Primary Key | Not Predictive\", \"Id of a fighter\"],\n",
    "}"
   ]
  },
  {
   "cell_type": "code",
   "execution_count": 23,
   "id": "74fe6c31-506d-4a98-8350-195d7087e0fd",
   "metadata": {},
   "outputs": [],
   "source": [
    "fighters = pd.DataFrame(rows).T\n",
    "fighters.columns = headers\n",
    "fighters.to_csv(\"fighters_features.csv\")"
   ]
  },
  {
   "cell_type": "markdown",
   "id": "ef61fa23-e8a1-4827-93d8-04682fd90dbe",
   "metadata": {},
   "source": []
  },
  {
   "cell_type": "code",
   "execution_count": 27,
   "id": "675fd3b5-c54a-4c6f-97a4-b9f1fc347ca5",
   "metadata": {},
   "outputs": [],
   "source": [
    "headers = [\"Column_name\", \"Predictive / Target\", \"Description\"]\n",
    "row = {\n",
    "    0: [\"kd\", \"Predictive *\", \"Knock Downs by fighter in fight\"],\n",
    "    1: [\"str\", \"Predictive *\", \"Strikes by fighter in fight\"],\n",
    "    2: [\"td\", \"Predictive *\", \"Takedowns by fighter in fight\"],\n",
    "    3: [\"sub\", \"Predictive *\", \"Submissions by fighter in fight\"],\n",
    "    4: [\"fight_id\", \"Foreign Key | Not Predictive\", \"Id of the fight\"],\n",
    "    5: [\"fighter_id\", \"Foreign Key | Not Predictive\", \"Id of a fighter\"]\n",
    "}"
   ]
  },
  {
   "cell_type": "code",
   "execution_count": 28,
   "id": "2f00aa5f-c54a-4d79-ba74-9551454ae79a",
   "metadata": {},
   "outputs": [],
   "source": [
    "match_stats = pd.DataFrame(rows).T\n",
    "match_stats.columns = headers\n",
    "match_stats.to_csv(\"match_stats_features.csv\")"
   ]
  }
 ],
 "metadata": {
  "kernelspec": {
   "display_name": "Python 3 (ipykernel)",
   "language": "python",
   "name": "python3"
  },
  "language_info": {
   "codemirror_mode": {
    "name": "ipython",
    "version": 3
   },
   "file_extension": ".py",
   "mimetype": "text/x-python",
   "name": "python",
   "nbconvert_exporter": "python",
   "pygments_lexer": "ipython3",
   "version": "3.9.13"
  }
 },
 "nbformat": 4,
 "nbformat_minor": 5
}
