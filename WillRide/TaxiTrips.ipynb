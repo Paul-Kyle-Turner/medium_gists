{
 "cells": [
  {
   "cell_type": "code",
   "execution_count": 1,
   "id": "11c0d677-b637-4793-953e-3ff971b34531",
   "metadata": {},
   "outputs": [],
   "source": [
    "import pandas as pd"
   ]
  },
  {
   "cell_type": "code",
   "execution_count": 9,
   "id": "e6342c26-1971-43e2-a227-cffa34b5912e",
   "metadata": {},
   "outputs": [],
   "source": [
    "headers = [\"Column Name\", \"Predictive / Target\", \"Description\"]\n",
    "rows = {\n",
    "    0: [\"id\", \"Not Predictive\", \"Primary Key | \"],\n",
    "    1: [\"time_of_ride\", \"Predictive\", \"Timestamp of the ride taken\"],\n",
    "    2: [\"did_user_cancel\", \"Target Column\", \"Target | 1 if ride cancelled else 0\"],\n",
    "    3: [\"rider_id\", \"Not Predictive\", \"Foreign Key of rider\"]\n",
    "}"
   ]
  },
  {
   "cell_type": "code",
   "execution_count": 10,
   "id": "cfa3e292-a747-4a2e-a516-fde7116636a8",
   "metadata": {},
   "outputs": [],
   "source": [
    "did_rider_ride = pd.DataFrame(rows).T\n",
    "did_rider_ride.columns = headers"
   ]
  },
  {
   "cell_type": "code",
   "execution_count": 11,
   "id": "095cc4aa-c38b-43b3-bcc7-9550beec6188",
   "metadata": {},
   "outputs": [],
   "source": [
    "did_rider_ride.to_csv(\"trip.csv\", index=False)"
   ]
  },
  {
   "cell_type": "code",
   "execution_count": null,
   "id": "ff34464a-0d20-4fb9-b161-7c812d78742e",
   "metadata": {},
   "outputs": [],
   "source": []
  },
  {
   "cell_type": "code",
   "execution_count": 19,
   "id": "e99fcc34-17a5-4abc-a114-ae1bddb570e9",
   "metadata": {},
   "outputs": [],
   "source": [
    "headers = [\"Column Name\", \"Predictive / Target\", \"Description\"]\n",
    "rows = {\n",
    "    0: [\"trip_id\", \"Not Predictive\", \"Foreign Key for trips\"],\n",
    "    1: [\"cost\", \" Predictive\", \"Estimated cost of the ride\"],\n",
    "    2: [\"is_surge\", \"Predictive\", \"1 if surge else 0\"],\n",
    "    3: [\"estimated_arrival_minutes\", \"Predictive\", \"Number of minutes to arrival\"],\n",
    "    4: [\"distance\", \"Predictive\", \"Total distance of ride\"]\n",
    "}"
   ]
  },
  {
   "cell_type": "code",
   "execution_count": 20,
   "id": "5a146e48-d875-42c2-a81f-21035c940def",
   "metadata": {},
   "outputs": [],
   "source": [
    "trip_attributes = pd.DataFrame(rows).T\n",
    "trip_attributes.columns = headers"
   ]
  },
  {
   "cell_type": "code",
   "execution_count": null,
   "id": "7e547d72-b4e1-44c6-882c-9ccb74721339",
   "metadata": {},
   "outputs": [],
   "source": [
    "trip_attributes.to_csv(\"trip_attributes.csv\", index=False)"
   ]
  },
  {
   "cell_type": "code",
   "execution_count": 21,
   "id": "a1f2a6b2-57e1-4ae8-a1a0-4a3f011a33fc",
   "metadata": {},
   "outputs": [
    {
     "data": {
      "text/html": [
       "<div>\n",
       "<style scoped>\n",
       "    .dataframe tbody tr th:only-of-type {\n",
       "        vertical-align: middle;\n",
       "    }\n",
       "\n",
       "    .dataframe tbody tr th {\n",
       "        vertical-align: top;\n",
       "    }\n",
       "\n",
       "    .dataframe thead th {\n",
       "        text-align: right;\n",
       "    }\n",
       "</style>\n",
       "<table border=\"1\" class=\"dataframe\">\n",
       "  <thead>\n",
       "    <tr style=\"text-align: right;\">\n",
       "      <th></th>\n",
       "      <th>Column Name</th>\n",
       "      <th>Predictive / Target</th>\n",
       "      <th>Description</th>\n",
       "    </tr>\n",
       "  </thead>\n",
       "  <tbody>\n",
       "    <tr>\n",
       "      <th>0</th>\n",
       "      <td>trip_id</td>\n",
       "      <td>Not Predictive</td>\n",
       "      <td>Foreign Key for trips</td>\n",
       "    </tr>\n",
       "    <tr>\n",
       "      <th>1</th>\n",
       "      <td>cost</td>\n",
       "      <td>Predictive</td>\n",
       "      <td>Estimated cost of the ride</td>\n",
       "    </tr>\n",
       "    <tr>\n",
       "      <th>2</th>\n",
       "      <td>is_surge</td>\n",
       "      <td>Predictive</td>\n",
       "      <td>1 if surge else 0</td>\n",
       "    </tr>\n",
       "    <tr>\n",
       "      <th>3</th>\n",
       "      <td>estimated_arrival_minutes</td>\n",
       "      <td>Predictive</td>\n",
       "      <td>Number of minutes to arrival</td>\n",
       "    </tr>\n",
       "    <tr>\n",
       "      <th>4</th>\n",
       "      <td>distance</td>\n",
       "      <td>Predictive</td>\n",
       "      <td>Total distance of ride</td>\n",
       "    </tr>\n",
       "  </tbody>\n",
       "</table>\n",
       "</div>"
      ],
      "text/plain": [
       "                 Column Name Predictive / Target                   Description\n",
       "0                    trip_id      Not Predictive         Foreign Key for trips\n",
       "1                       cost          Predictive    Estimated cost of the ride\n",
       "2                   is_surge          Predictive             1 if surge else 0\n",
       "3  estimated_arrival_minutes          Predictive  Number of minutes to arrival\n",
       "4                   distance          Predictive        Total distance of ride"
      ]
     },
     "execution_count": 21,
     "metadata": {},
     "output_type": "execute_result"
    }
   ],
   "source": [
    "trip_attributes.head()"
   ]
  }
 ],
 "metadata": {
  "kernelspec": {
   "display_name": "Python 3 (ipykernel)",
   "language": "python",
   "name": "python3"
  },
  "language_info": {
   "codemirror_mode": {
    "name": "ipython",
    "version": 3
   },
   "file_extension": ".py",
   "mimetype": "text/x-python",
   "name": "python",
   "nbconvert_exporter": "python",
   "pygments_lexer": "ipython3",
   "version": "3.9.13"
  }
 },
 "nbformat": 4,
 "nbformat_minor": 5
}
