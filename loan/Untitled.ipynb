{
 "cells": [
  {
   "cell_type": "code",
   "execution_count": 1,
   "id": "cf8a60e4-d407-4db0-8384-bc0e9097b34f",
   "metadata": {},
   "outputs": [],
   "source": [
    "import pandas as pd"
   ]
  },
  {
   "cell_type": "code",
   "execution_count": 2,
   "id": "7ce622fd-d219-46fc-9c90-a6113defe5e4",
   "metadata": {},
   "outputs": [],
   "source": [
    "headers = [\"Column name\", \"Predictive / Target\", \"Description\"]"
   ]
  },
  {
   "cell_type": "code",
   "execution_count": 3,
   "id": "ce1d8033-1d7e-433a-ae73-9a037ce3960c",
   "metadata": {},
   "outputs": [],
   "source": [
    "rows = {\n",
    "    0: [\"loan_id\", \"Not Predictive\", \"Key of the loan\"],\n",
    "    1: [\"borrower_id\", \"Not Predictive\", \"Key of the borrower\"],\n",
    "    2: [\"loan_status\", \"Target\", \"The loans current status\"]\n",
    "}"
   ]
  },
  {
   "cell_type": "code",
   "execution_count": 4,
   "id": "c530b528-41bd-4a02-82d8-2686a591e64e",
   "metadata": {},
   "outputs": [],
   "source": [
    "target_table = pd.DataFrame(rows).T\n",
    "target_table.columns = headers\n",
    "target_table.to_csv(\"target_table.csv\", index=False)"
   ]
  },
  {
   "cell_type": "code",
   "execution_count": 5,
   "id": "c447508d-40d5-497d-81cd-eaa765ec4fa1",
   "metadata": {},
   "outputs": [],
   "source": [
    "rows = {\n",
    "    0: [\"loan_id\", \"Not Predictive\", \"Primary key for loan listing.\"],\n",
    "    1: [\"loan_amount\", \"Predictive\", \"Listed amount of the loan.\"],\n",
    "    2: [\"loan_term\", \"Predictive\", \"The number of payments on the loan. Values are in months and can be either 36 or 60.\"],\n",
    "    3: [\"loan_interest_rate\", \"Predictive\", \"Interest Rate on the loan.\"],\n",
    "    4: [\"loan_installment\", \"Predictive\", \"Monthly payment owed by the borrower.\"],\n",
    "    5: [\"loan_purpose\", \"Predictive\", \"Category provided by the borrower for loan request.\"],\n",
    "    6: [\"grade\", \"Predictivee\", \"Grade of the loan given.\"],\n",
    "    7: [\"sub_grade\", \"Predictive\", \"Sub-grade of loan given.\"]\n",
    "}"
   ]
  },
  {
   "cell_type": "code",
   "execution_count": 6,
   "id": "56fa3de0-eac2-465d-9e43-d1af6317eba3",
   "metadata": {},
   "outputs": [],
   "source": [
    "loan_table = pd.DataFrame(rows).T\n",
    "loan_table.columns = headers\n",
    "loan_table.to_csv(\"loans.csv\", index=False)"
   ]
  },
  {
   "cell_type": "code",
   "execution_count": 7,
   "id": "b0b593f4-d8b7-4f48-9e62-33cae2091a95",
   "metadata": {},
   "outputs": [],
   "source": [
    "rows = {\n",
    "    0: [\"borrower_id\", \"Not Predictive\", \"Primary key for borrower profile.\"],\n",
    "    1: [\"employment_title\", \"Predictive\", \"Job title provided by the borrower.\"],\n",
    "    2: [\"employment_length\", \"Predictive\", \"Employment length in years.\"],\n",
    "    3: [\"home_ownership\", \"Predictive\", \"Home ownership status provided.\"],\n",
    "    4: [\"annual_income\", \"Predictive\", \"Self-reported annual income.\"],\n",
    "    5: [\"zip_code\", \"Predictive\", \"First 3 numbers of the zip code provided by the borrower.\"],\n",
    "    6: [\"address_state\", \"Predictivee\", \"State provided by the borrower.\"]\n",
    "}"
   ]
  },
  {
   "cell_type": "code",
   "execution_count": 8,
   "id": "3ecb96ba-35f3-442f-9626-280dc1386cb4",
   "metadata": {},
   "outputs": [],
   "source": [
    "borrowers_table = pd.DataFrame(rows).T\n",
    "borrowers_table.columns = headers\n",
    "borrowers_table.to_csv(\"borrowers.csv\", index=False)"
   ]
  },
  {
   "cell_type": "code",
   "execution_count": 9,
   "id": "a99b4160-571d-4714-afe3-cb22975fce76",
   "metadata": {},
   "outputs": [],
   "source": [
    "rows = {\n",
    "    0: [\"borrower_id\", \"Not Predictive\", \"Primary key for borrower profile.\"],\n",
    "    1: [\"dti\", \"Predictive\", \"Ratio calculated using the borrower’s total monthly debt payments on the total debt obligations divided by the borrower’s self-reported monthly income.\"],\n",
    "    2: [\"earliest_cr_line\", \"Predictive\", \"Month the borrower's earliest reported credit line.\"],\n",
    "    3: [\"months_since_last_delinq\", \"Predictive\", \"Number of months since the borrower's last delinquency.\"],\n",
    "    4: [\"open_accounts\", \"Predictive\", \"Number of open credit lines.\"],\n",
    "    5: [\"pub_records\", \"Predictive\", \"Number of derogatory public records.\"],\n",
    "    6: [\"revol_balance\", \"Predictivee\", \"Total credit revolving balance.\"],\n",
    "    7: [\"revol_utilization\", \"Predictivee\", \"Amount of credit the borrower is using relative to all available revolving credit.\"],\n",
    "    8: [\"total_accounts\", \"Predictivee\", \"Total number of credit lines currently in the borrower's credit file.\"]\n",
    "}"
   ]
  },
  {
   "cell_type": "code",
   "execution_count": 10,
   "id": "37da64c5-27a4-42c7-a0f6-22f5b06bd47f",
   "metadata": {},
   "outputs": [],
   "source": [
    "borrowers_credit = pd.DataFrame(rows).T\n",
    "borrowers_credit.columns = headers\n",
    "borrowers_credit.to_csv(\"borrowers_credit.csv\", index=False)"
   ]
  },
  {
   "cell_type": "code",
   "execution_count": 11,
   "id": "17a5c4de-c0c5-4e27-8f88-9233cb488988",
   "metadata": {},
   "outputs": [],
   "source": [
    "rows = {\n",
    "    0: [\"borrower_id\", \"Not Predictive\", \"Primary key for borrower profile.\"],\n",
    "    1: [\"inq_date\", \"Predictive\", \"Date of credit inquiry.\"],\n",
    "}"
   ]
  },
  {
   "cell_type": "code",
   "execution_count": 12,
   "id": "8207cd75-4a08-45bf-876e-c40a36d3a643",
   "metadata": {},
   "outputs": [],
   "source": [
    "borrowers_inquiry = pd.DataFrame(rows).T\n",
    "borrowers_inquiry.columns = headers\n",
    "borrowers_inquiry.to_csv(\"borrowers_inquery.csv\", index=False)"
   ]
  },
  {
   "cell_type": "code",
   "execution_count": 13,
   "id": "f1453afa-76a5-4e7d-b776-e00258e4aadc",
   "metadata": {},
   "outputs": [],
   "source": [
    "rows = {\n",
    "    0: [\"borrower_id\", \"Not Predictive\", \"Primary key for borrower profile.\"],\n",
    "    1: [\"verification_status\", \"Predictive\", \"Indicates if income was verified or not verified.\"]\n",
    "}"
   ]
  },
  {
   "cell_type": "code",
   "execution_count": 14,
   "id": "d2624439-20f2-4137-8bf1-3d59eea4bdd1",
   "metadata": {},
   "outputs": [],
   "source": [
    "borrowers_check = pd.DataFrame(rows).T\n",
    "borrowers_check.columns = headers\n",
    "borrowers_check.to_csv(\"borrowers_check.csv\", index=False)"
   ]
  }
 ],
 "metadata": {
  "kernelspec": {
   "display_name": "Python 3 (ipykernel)",
   "language": "python",
   "name": "python3"
  },
  "language_info": {
   "codemirror_mode": {
    "name": "ipython",
    "version": 3
   },
   "file_extension": ".py",
   "mimetype": "text/x-python",
   "name": "python",
   "nbconvert_exporter": "python",
   "pygments_lexer": "ipython3",
   "version": "3.9.13"
  }
 },
 "nbformat": 4,
 "nbformat_minor": 5
}
